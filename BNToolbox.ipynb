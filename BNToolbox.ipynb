{
 "cells": [
  {
   "cell_type": "markdown",
   "metadata": {},
   "source": [
    "# BN Toolbox Example\n",
    "--------\n",
    "Example comparing the BN Toolboox to [pgmpy](https://pgmpy.org) (ground truth)."
   ]
  },
  {
   "cell_type": "markdown",
   "metadata": {},
   "source": [
    "## BN Toolbox\n",
    "Intialize a BN using the implemented toolbox"
   ]
  },
  {
   "cell_type": "code",
   "execution_count": 20,
   "metadata": {},
   "outputs": [],
   "source": [
    "from model import *"
   ]
  },
  {
   "cell_type": "code",
   "execution_count": 21,
   "metadata": {
    "scrolled": false
   },
   "outputs": [],
   "source": [
    "\"\"\"\n",
    "Intialize model:\n",
    "----------\n",
    "Traffic Accident : A\n",
    "Heavy Rain       : R\n",
    "Traffic Jam      : J\n",
    "Getting up Late  : G\n",
    "Late for School  : L\n",
    "Long Queues      : Q\n",
    "\n",
    "\"\"\"\n",
    "\n",
    "# parent -> child net input\n",
    "myModel = Model([('A', 'J'),\n",
    "                 ('R', 'J'),\n",
    "                 ('G', 'L'),\n",
    "                 ('J', 'L'),\n",
    "                 ('J', 'Q')])\n",
    "\n",
    "\n",
    "# create CPDs\n",
    "cpd = {'node': 'A',\n",
    "               # A0 A1\n",
    "       'cpt' : [[0.2], [0.8]],\n",
    "       'evid': None,\n",
    "      }\n",
    "myModel.addCPD(cpd)\n",
    "\n",
    "cpd = {'node': 'R',\n",
    "               # R0 R1\n",
    "       'cpt' : [[0.4], [0.6]],\n",
    "       'evid': None\n",
    "       }\n",
    "myModel.addCPD(cpd)\n",
    "\n",
    "\n",
    "cpd = {'node': 'J',\n",
    "                # R0 R0 R1 R1\n",
    "                # A0 A1 A0 A1\n",
    "       'cpt' : [[0.9, 0.6, 0.7, 0.1],\n",
    "                [0.1, 0.4, 0.3, 0.9]],\n",
    "       'evid': ['R', 'A'],\n",
    "       }\n",
    "myModel.addCPD(cpd)\n",
    "\n",
    "cpd = {'node': 'G',\n",
    "       'cpt' : [[0.6], [0.4]],\n",
    "       'evid': None,\n",
    "       }\n",
    "myModel.addCPD(cpd)\n",
    "\n",
    "cpd = {'node': 'L',\n",
    "       'cpt' : [[0.9, 0.45, 0.8, 0.1],\n",
    "                [0.1, 0.55, 0.2, 0.9]],\n",
    "       'evid': ['G', 'J'],\n",
    "       }\n",
    "myModel.addCPD(cpd)\n",
    "\n",
    "cpd = {'node': 'Q',\n",
    "       'cpt' : [[0.9, 0.2],\n",
    "                [0.1, 0.8]],\n",
    "       'evid': ['J'],\n",
    "       }\n",
    "\n",
    "# add CPDs to the model\n",
    "myModel.addCPD(cpd)"
   ]
  },
  {
   "cell_type": "markdown",
   "metadata": {},
   "source": [
    "## pgmpy\n",
    "Intialize pgmpy model"
   ]
  },
  {
   "cell_type": "code",
   "execution_count": 22,
   "metadata": {},
   "outputs": [],
   "source": [
    "# Create model\n",
    "from pgmpy.models import BayesianModel"
   ]
  },
  {
   "cell_type": "code",
   "execution_count": 23,
   "metadata": {},
   "outputs": [],
   "source": [
    "traffic_model = BayesianModel([('A', 'J'),\n",
    "                       ('R', 'J'),\n",
    "                       ('J', 'L'),\n",
    "                       ('G', 'L'),\n",
    "                       ('J', 'Q')])"
   ]
  },
  {
   "cell_type": "code",
   "execution_count": 24,
   "metadata": {},
   "outputs": [],
   "source": [
    "# Define parameters\n",
    "from pgmpy.factors.discrete import TabularCPD\n",
    "\n",
    "cpd_accident = TabularCPD(variable='A', variable_card=2,\n",
    "                      values=[[0.2], [0.8]])\n",
    "\n",
    "cpd_rain = TabularCPD(variable='R', variable_card=2,\n",
    "                        values=[[0.4], [0.6]])\n",
    "\n",
    "cpd_jam = TabularCPD(variable='J', variable_card=2,\n",
    "                        values=[[0.9, 0.6, 0.7, 0.1],\n",
    "                                [0.1, 0.4, 0.3, 0.9]],\n",
    "                        evidence=['R', 'A'],\n",
    "                        evidence_card=[2,2])\n",
    "\n",
    "cpd_gettingup = TabularCPD(variable='G', variable_card=2,\n",
    "                      values=[[0.6], [0.4]])\n",
    "\n",
    "cpd_late = TabularCPD(variable='L', variable_card=2,\n",
    "                      values=[[0.9, 0.45, 0.8, 0.1],\n",
    "                             [0.1, 0.55, 0.2, 0.9]],\n",
    "                      evidence=['G', 'J'], evidence_card=[2, 2])\n",
    "\n",
    "cpd_queues = TabularCPD(variable='Q', variable_card=2,\n",
    "                      values=[[0.9, 0.2],\n",
    "                             [0.1, 0.8]],\n",
    "                      evidence=['J'], evidence_card=[2])"
   ]
  },
  {
   "cell_type": "code",
   "execution_count": 25,
   "metadata": {},
   "outputs": [
    {
     "data": {
      "text/plain": [
       "True"
      ]
     },
     "execution_count": 25,
     "metadata": {},
     "output_type": "execute_result"
    }
   ],
   "source": [
    "traffic_model.add_cpds(cpd_accident, cpd_rain, cpd_jam, cpd_gettingup, cpd_late, cpd_queues)\n",
    "\n",
    "traffic_model.check_model()"
   ]
  },
  {
   "cell_type": "code",
   "execution_count": 26,
   "metadata": {},
   "outputs": [],
   "source": [
    "from pgmpy.inference import VariableElimination\n",
    "traffic_infer = VariableElimination(traffic_model)"
   ]
  },
  {
   "cell_type": "markdown",
   "metadata": {},
   "source": [
    "## Sample Queries"
   ]
  },
  {
   "cell_type": "markdown",
   "metadata": {},
   "source": [
    "### Query 1\n",
    "----\n",
    "#### pgmpy (ground truth)"
   ]
  },
  {
   "cell_type": "code",
   "execution_count": 27,
   "metadata": {},
   "outputs": [
    {
     "name": "stdout",
     "output_type": "stream",
     "text": [
      "╒═════╤══════════╕\n",
      "│ J   │   phi(J) │\n",
      "╞═════╪══════════╡\n",
      "│ J_0 │   0.3960 │\n",
      "├─────┼──────────┤\n",
      "│ J_1 │   0.6040 │\n",
      "╘═════╧══════════╛\n"
     ]
    }
   ],
   "source": [
    "traffic_q1 = traffic_infer.query(variables=['J'])\n",
    "print(traffic_q1['J'])"
   ]
  },
  {
   "cell_type": "markdown",
   "metadata": {},
   "source": [
    "#### BNToolbox: Variable Elimination"
   ]
  },
  {
   "cell_type": "code",
   "execution_count": 28,
   "metadata": {},
   "outputs": [
    {
     "data": {
      "text/html": [
       "<div>\n",
       "<table border=\"1\" class=\"dataframe\">\n",
       "  <thead>\n",
       "    <tr style=\"text-align: right;\">\n",
       "      <th></th>\n",
       "      <th>J</th>\n",
       "      <th>Pr</th>\n",
       "    </tr>\n",
       "    <tr>\n",
       "      <th>VE</th>\n",
       "      <th></th>\n",
       "      <th></th>\n",
       "    </tr>\n",
       "  </thead>\n",
       "  <tbody>\n",
       "    <tr>\n",
       "      <th>0</th>\n",
       "      <td>J_0</td>\n",
       "      <td>0.3960</td>\n",
       "    </tr>\n",
       "    <tr>\n",
       "      <th>1</th>\n",
       "      <td>J_1</td>\n",
       "      <td>0.6040</td>\n",
       "    </tr>\n",
       "  </tbody>\n",
       "</table>\n",
       "</div>"
      ],
      "text/plain": [
       "      J      Pr\n",
       "VE             \n",
       "0   J_0  0.3960\n",
       "1   J_1  0.6040"
      ]
     },
     "execution_count": 28,
     "metadata": {},
     "output_type": "execute_result"
    }
   ],
   "source": [
    "# impleneted model query\n",
    "myModel.query('J', inf_type='VE',e={})"
   ]
  },
  {
   "cell_type": "markdown",
   "metadata": {},
   "source": [
    "#### BNToolbox: Gibbs Sampling"
   ]
  },
  {
   "cell_type": "code",
   "execution_count": 29,
   "metadata": {},
   "outputs": [
    {
     "name": "stdout",
     "output_type": "stream",
     "text": [
      "Sampler appear to first reach exact solution at timestep: 5260\n"
     ]
    },
    {
     "data": {
      "text/html": [
       "<div>\n",
       "<table border=\"1\" class=\"dataframe\">\n",
       "  <thead>\n",
       "    <tr style=\"text-align: right;\">\n",
       "      <th></th>\n",
       "      <th>J</th>\n",
       "      <th>Pr</th>\n",
       "    </tr>\n",
       "    <tr>\n",
       "      <th>Gibbs</th>\n",
       "      <th></th>\n",
       "      <th></th>\n",
       "    </tr>\n",
       "  </thead>\n",
       "  <tbody>\n",
       "    <tr>\n",
       "      <th>0</th>\n",
       "      <td>J_0</td>\n",
       "      <td>0.397</td>\n",
       "    </tr>\n",
       "    <tr>\n",
       "      <th>1</th>\n",
       "      <td>J_1</td>\n",
       "      <td>0.603</td>\n",
       "    </tr>\n",
       "  </tbody>\n",
       "</table>\n",
       "</div>"
      ],
      "text/plain": [
       "         J     Pr\n",
       "Gibbs            \n",
       "0      J_0  0.397\n",
       "1      J_1  0.603"
      ]
     },
     "execution_count": 29,
     "metadata": {},
     "output_type": "execute_result"
    },
    {
     "data": {
      "image/png": "[encoded data removed]",
      "text/plain": [
       "<matplotlib.figure.Figure at 0x1159ce128>"
      ]
     },
     "metadata": {},
     "output_type": "display_data"
    }
   ],
   "source": [
    "# impleneted model query\n",
    "myModel.query('J', inf_type='Gibbs',e={})"
   ]
  },
  {
   "cell_type": "markdown",
   "metadata": {},
   "source": [
    "### Query 2\n",
    "---\n",
    "#### pgmpy (ground truth)"
   ]
  },
  {
   "cell_type": "code",
   "execution_count": 30,
   "metadata": {},
   "outputs": [
    {
     "name": "stdout",
     "output_type": "stream",
     "text": [
      "╒═════╤══════════╕\n",
      "│ L   │   phi(L) │\n",
      "╞═════╪══════════╡\n",
      "│ L_0 │   0.8000 │\n",
      "├─────┼──────────┤\n",
      "│ L_1 │   0.2000 │\n",
      "╘═════╧══════════╛\n"
     ]
    }
   ],
   "source": [
    "traffic_q2 = traffic_infer.query(variables=['L'], evidence={'R': 1, 'J': 0, 'G':1})\n",
    "print(traffic_q2['L'])"
   ]
  },
  {
   "cell_type": "markdown",
   "metadata": {},
   "source": [
    "#### BNToolbox: Variable Elimination"
   ]
  },
  {
   "cell_type": "code",
   "execution_count": 31,
   "metadata": {},
   "outputs": [
    {
     "data": {
      "text/html": [
       "<div>\n",
       "<table border=\"1\" class=\"dataframe\">\n",
       "  <thead>\n",
       "    <tr style=\"text-align: right;\">\n",
       "      <th></th>\n",
       "      <th>L</th>\n",
       "      <th>Pr</th>\n",
       "    </tr>\n",
       "    <tr>\n",
       "      <th>VE</th>\n",
       "      <th></th>\n",
       "      <th></th>\n",
       "    </tr>\n",
       "  </thead>\n",
       "  <tbody>\n",
       "    <tr>\n",
       "      <th>0</th>\n",
       "      <td>L_0</td>\n",
       "      <td>0.8000</td>\n",
       "    </tr>\n",
       "    <tr>\n",
       "      <th>1</th>\n",
       "      <td>L_1</td>\n",
       "      <td>0.2000</td>\n",
       "    </tr>\n",
       "  </tbody>\n",
       "</table>\n",
       "</div>"
      ],
      "text/plain": [
       "      L      Pr\n",
       "VE             \n",
       "0   L_0  0.8000\n",
       "1   L_1  0.2000"
      ]
     },
     "execution_count": 31,
     "metadata": {},
     "output_type": "execute_result"
    }
   ],
   "source": [
    "myModel.query('L', inf_type='VE',  e={'R': 1, 'J': 0, 'G':1})"
   ]
  },
  {
   "cell_type": "markdown",
   "metadata": {},
   "source": [
    "#### BNToolbox: Gibbs Sampling"
   ]
  },
  {
   "cell_type": "code",
   "execution_count": 32,
   "metadata": {},
   "outputs": [
    {
     "name": "stdout",
     "output_type": "stream",
     "text": [
      "Sampler appear to first reach exact solution at timestep: 5020\n"
     ]
    },
    {
     "data": {
      "text/html": [
       "<div>\n",
       "<table border=\"1\" class=\"dataframe\">\n",
       "  <thead>\n",
       "    <tr style=\"text-align: right;\">\n",
       "      <th></th>\n",
       "      <th>L</th>\n",
       "      <th>Pr</th>\n",
       "    </tr>\n",
       "    <tr>\n",
       "      <th>Gibbs</th>\n",
       "      <th></th>\n",
       "      <th></th>\n",
       "    </tr>\n",
       "  </thead>\n",
       "  <tbody>\n",
       "    <tr>\n",
       "      <th>0</th>\n",
       "      <td>L_0</td>\n",
       "      <td>0.801</td>\n",
       "    </tr>\n",
       "    <tr>\n",
       "      <th>1</th>\n",
       "      <td>L_1</td>\n",
       "      <td>0.199</td>\n",
       "    </tr>\n",
       "  </tbody>\n",
       "</table>\n",
       "</div>"
      ],
      "text/plain": [
       "         L     Pr\n",
       "Gibbs            \n",
       "0      L_0  0.801\n",
       "1      L_1  0.199"
      ]
     },
     "execution_count": 32,
     "metadata": {},
     "output_type": "execute_result"
    },
    {
     "data": {
      "image/png": "[encoded data removed]",
      "text/plain": [
       "<matplotlib.figure.Figure at 0x1159d74e0>"
      ]
     },
     "metadata": {},
     "output_type": "display_data"
    }
   ],
   "source": [
    "myModel.query('L', inf_type='Gibbs',  e={'R': 1, 'J': 0, 'G':1})"
   ]
  },
  {
   "cell_type": "markdown",
   "metadata": {},
   "source": [
    "### Query 3\n",
    "---\n",
    "#### pgmpy (ground truth)"
   ]
  },
  {
   "cell_type": "code",
   "execution_count": 33,
   "metadata": {},
   "outputs": [
    {
     "name": "stdout",
     "output_type": "stream",
     "text": [
      "╒═════╤══════════╕\n",
      "│ A   │   phi(A) │\n",
      "╞═════╪══════════╡\n",
      "│ A_0 │   0.0972 │\n",
      "├─────┼──────────┤\n",
      "│ A_1 │   0.9028 │\n",
      "╘═════╧══════════╛\n"
     ]
    }
   ],
   "source": [
    "traffic_q3 = traffic_infer.query(variables=['A'], evidence={'Q': 1})\n",
    "print(traffic_q3['A'])"
   ]
  },
  {
   "cell_type": "markdown",
   "metadata": {},
   "source": [
    "#### BNToolbox: Variable Elimination"
   ]
  },
  {
   "cell_type": "code",
   "execution_count": 34,
   "metadata": {
    "scrolled": true
   },
   "outputs": [
    {
     "data": {
      "text/html": [
       "<div>\n",
       "<table border=\"1\" class=\"dataframe\">\n",
       "  <thead>\n",
       "    <tr style=\"text-align: right;\">\n",
       "      <th></th>\n",
       "      <th>A</th>\n",
       "      <th>Pr</th>\n",
       "    </tr>\n",
       "    <tr>\n",
       "      <th>VE</th>\n",
       "      <th></th>\n",
       "      <th></th>\n",
       "    </tr>\n",
       "  </thead>\n",
       "  <tbody>\n",
       "    <tr>\n",
       "      <th>0</th>\n",
       "      <td>A_0</td>\n",
       "      <td>0.0972</td>\n",
       "    </tr>\n",
       "    <tr>\n",
       "      <th>1</th>\n",
       "      <td>A_1</td>\n",
       "      <td>0.9028</td>\n",
       "    </tr>\n",
       "  </tbody>\n",
       "</table>\n",
       "</div>"
      ],
      "text/plain": [
       "      A      Pr\n",
       "VE             \n",
       "0   A_0  0.0972\n",
       "1   A_1  0.9028"
      ]
     },
     "execution_count": 34,
     "metadata": {},
     "output_type": "execute_result"
    }
   ],
   "source": [
    "myModel.query('A',  inf_type='VE', e={'Q': 1})"
   ]
  },
  {
   "cell_type": "markdown",
   "metadata": {},
   "source": [
    "#### BNToolbox: Gibbs Sampling"
   ]
  },
  {
   "cell_type": "code",
   "execution_count": 35,
   "metadata": {
    "scrolled": false
   },
   "outputs": [
    {
     "name": "stdout",
     "output_type": "stream",
     "text": [
      "Sampler appear to first reach exact solution at timestep: 904995\n"
     ]
    },
    {
     "data": {
      "text/html": [
       "<div>\n",
       "<table border=\"1\" class=\"dataframe\">\n",
       "  <thead>\n",
       "    <tr style=\"text-align: right;\">\n",
       "      <th></th>\n",
       "      <th>A</th>\n",
       "      <th>Pr</th>\n",
       "    </tr>\n",
       "    <tr>\n",
       "      <th>Gibbs</th>\n",
       "      <th></th>\n",
       "      <th></th>\n",
       "    </tr>\n",
       "  </thead>\n",
       "  <tbody>\n",
       "    <tr>\n",
       "      <th>0</th>\n",
       "      <td>A_0</td>\n",
       "      <td>0.096</td>\n",
       "    </tr>\n",
       "    <tr>\n",
       "      <th>1</th>\n",
       "      <td>A_1</td>\n",
       "      <td>0.904</td>\n",
       "    </tr>\n",
       "  </tbody>\n",
       "</table>\n",
       "</div>"
      ],
      "text/plain": [
       "         A     Pr\n",
       "Gibbs            \n",
       "0      A_0  0.096\n",
       "1      A_1  0.904"
      ]
     },
     "execution_count": 35,
     "metadata": {},
     "output_type": "execute_result"
    },
    {
     "data": {
      "image/png": "[encoded data removed]",
      "text/plain": [
       "<matplotlib.figure.Figure at 0x1159ce3c8>"
      ]
     },
     "metadata": {},
     "output_type": "display_data"
    }
   ],
   "source": [
    "myModel.query('A', inf_type='Gibbs', e={'Q': 1})"
   ]
  }
 ],
 "metadata": {
  "kernelspec": {
   "display_name": "Python [conda env:mie1516]",
   "language": "python",
   "name": "conda-env-mie1516-py"
  },
  "language_info": {
   "codemirror_mode": {
    "name": "ipython",
    "version": 3
   },
   "file_extension": ".py",
   "mimetype": "text/x-python",
   "name": "python",
   "nbconvert_exporter": "python",
   "pygments_lexer": "ipython3",
   "version": "3.5.4"
  }
 },
 "nbformat": 4,
 "nbformat_minor": 2
}
